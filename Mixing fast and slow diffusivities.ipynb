{
 "cells": [
  {
   "cell_type": "markdown",
   "metadata": {},
   "source": [
    "# Olivine diffusivities intermediate between proton-polaron (pp) and proton-vacancy (pv) diffusion mechanisms"
   ]
  },
  {
   "cell_type": "code",
   "execution_count": 31,
   "metadata": {
    "collapsed": false
   },
   "outputs": [
    {
     "name": "stdout",
     "output_type": "stream",
     "text": [
      "Diffusivities || a, || b, and || c, log10 m^2/s\n",
      "\n",
      "Proton-polaron fast mechanism diffusivities\n",
      "[-8.3420600117295702, -9.6741665848220002, -10.368307667644416]\n",
      "\n",
      "97.0% mixture of proton-polaron and proton-vacancy mechanism\n",
      "[-9.7754915394070654, -10.942083942009486, -9.6888604584793576]\n"
     ]
    }
   ],
   "source": [
    "from __future__ import print_function\n",
    "import pynams.diffusion.literaturevalues as dlib\n",
    "from pynams.diffusion import models\n",
    "\n",
    "my_temp = 1245.\n",
    "percent_pv = 97.\n",
    "\n",
    "Dfast = dlib.KM98_fast.whatIsD(celsius=my_temp, printout=False)[0:3]\n",
    "D3 = dlib.mix_olivine_mechanisms(celsius=my_temp, percent_slow=percent_pv)\n",
    "\n",
    "print('Diffusivities || a, || b, and || c, log10 m^2/s')\n",
    "print()\n",
    "print('Proton-polaron fast mechanism diffusivities')\n",
    "print(Dfast)\n",
    "print()\n",
    "print(''.join((str(percent_pv), '% mixture of proton-polaron and proton-vacancy mechanism')))\n",
    "print(D3)"
   ]
  },
  {
   "cell_type": "markdown",
   "metadata": {},
   "source": [
    "## [Here are examples for plotting these diffusivities in 3D](https://github.com/EFerriss/Pynams/blob/master/EXAMPLES_diffusion3D.ipynb) and [1D](https://github.com/EFerriss/Pynams/blob/master/EXAMPLES_diffusion1D.ipynb)"
   ]
  }
 ],
 "metadata": {
  "kernelspec": {
   "display_name": "Python 3",
   "language": "python",
   "name": "python3"
  },
  "language_info": {
   "codemirror_mode": {
    "name": "ipython",
    "version": 3
   },
   "file_extension": ".py",
   "mimetype": "text/x-python",
   "name": "python",
   "nbconvert_exporter": "python",
   "pygments_lexer": "ipython3",
   "version": "3.6.0"
  }
 },
 "nbformat": 4,
 "nbformat_minor": 2
}
